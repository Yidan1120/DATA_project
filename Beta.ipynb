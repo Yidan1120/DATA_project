{
 "cells": [
  {
   "cell_type": "code",
   "execution_count": 1,
   "id": "25c68f35",
   "metadata": {},
   "outputs": [],
   "source": [
    "import pandas as pd\n",
    "import numpy as np\n",
    "import matplotlib.pyplot as plt\n",
    "import glob\n",
    "import os\n",
    "import dask.dataframe as dd"
   ]
  },
  {
   "cell_type": "markdown",
   "id": "0bcbdae4",
   "metadata": {},
   "source": [
    "### Concat using time_id"
   ]
  },
  {
   "cell_type": "code",
   "execution_count": 2,
   "id": "8cb29b7e",
   "metadata": {},
   "outputs": [],
   "source": [
    "files = glob.glob(os.path.join(\"./individual_book_train\", \"*.csv\"))\n",
    "\n",
    "def concat_stocks(files, time_id = 5):\n",
    "    \n",
    "    # CREATE NEW DATAFRAME - with columns: stock_id and average wap for time_id\n",
    "    stocks = pd.DataFrame({\"stock_id\":[], \"wap\":[], \"seconds\": []})\n",
    "    \n",
    "    for f in files[:]: \n",
    "\n",
    "        # LAZY READ TO OPTIMIZE READ TIME\n",
    "        df = dd.read_csv(f)\n",
    "\n",
    "        # FIND ONLY COLUMNS WITH time_id ONLY\n",
    "        df = df[df['time_id'] == time_id]\n",
    "        df = df.compute()\n",
    "        \n",
    "        # COMPUTE WAP COLUMN\n",
    "        df[\"wap\"] = (df[\"bid_price1\"] * df[\"ask_size1\"] + df[\"ask_price1\"] * df[\"bid_size1\"]) \\\n",
    "                    / (df[\"bid_size1\"] + df[\"ask_size1\"])\n",
    "        \n",
    "        d = pd.DataFrame({\"stock_id\": df[\"stock_id\"], \"wap\": df[\"wap\"], \"seconds\": df[\"seconds_in_bucket\"]})\n",
    "        \n",
    "        ## FILLING ALL SECONDS WITH STATS FROM SECOND BEFORE (NO MISSING SECONDS)\n",
    "        i = 0\n",
    "        while i < 600: \n",
    "            if i == len(d) and i < 600 or d.loc[i].seconds > i:\n",
    "                new = pd.DataFrame({'stock_id':[d.loc[i-1].stock_id], 'wap':[d.loc[i-1].wap], 'seconds':[i]})\n",
    "                d = pd.concat([d, new]).sort_values('seconds')\n",
    "                d = d.reset_index(drop=True)\n",
    "        \n",
    "            i += 1\n",
    "    \n",
    "        stocks = pd.concat([stocks, d]).astype({'stock_id':'int', 'seconds':'int'})\n",
    "                \n",
    "    return stocks"
   ]
  },
  {
   "cell_type": "markdown",
   "id": "2b01b894",
   "metadata": {},
   "source": [
    "### Creating dataframe (may take some time)\n",
    "- All stocks concatenated by time id"
   ]
  },
  {
   "cell_type": "code",
   "execution_count": 3,
   "id": "ec2f681a",
   "metadata": {},
   "outputs": [
    {
     "data": {
      "text/html": [
       "<div>\n",
       "<style scoped>\n",
       "    .dataframe tbody tr th:only-of-type {\n",
       "        vertical-align: middle;\n",
       "    }\n",
       "\n",
       "    .dataframe tbody tr th {\n",
       "        vertical-align: top;\n",
       "    }\n",
       "\n",
       "    .dataframe thead th {\n",
       "        text-align: right;\n",
       "    }\n",
       "</style>\n",
       "<table border=\"1\" class=\"dataframe\">\n",
       "  <thead>\n",
       "    <tr style=\"text-align: right;\">\n",
       "      <th></th>\n",
       "      <th>stock_id</th>\n",
       "      <th>wap</th>\n",
       "      <th>seconds</th>\n",
       "    </tr>\n",
       "  </thead>\n",
       "  <tbody>\n",
       "    <tr>\n",
       "      <th>0</th>\n",
       "      <td>0</td>\n",
       "      <td>1.001434</td>\n",
       "      <td>0</td>\n",
       "    </tr>\n",
       "    <tr>\n",
       "      <th>1</th>\n",
       "      <td>0</td>\n",
       "      <td>1.001448</td>\n",
       "      <td>1</td>\n",
       "    </tr>\n",
       "    <tr>\n",
       "      <th>2</th>\n",
       "      <td>0</td>\n",
       "      <td>1.001448</td>\n",
       "      <td>2</td>\n",
       "    </tr>\n",
       "    <tr>\n",
       "      <th>3</th>\n",
       "      <td>0</td>\n",
       "      <td>1.001448</td>\n",
       "      <td>3</td>\n",
       "    </tr>\n",
       "    <tr>\n",
       "      <th>4</th>\n",
       "      <td>0</td>\n",
       "      <td>1.001448</td>\n",
       "      <td>4</td>\n",
       "    </tr>\n",
       "    <tr>\n",
       "      <th>...</th>\n",
       "      <td>...</td>\n",
       "      <td>...</td>\n",
       "      <td>...</td>\n",
       "    </tr>\n",
       "    <tr>\n",
       "      <th>595</th>\n",
       "      <td>99</td>\n",
       "      <td>1.004193</td>\n",
       "      <td>595</td>\n",
       "    </tr>\n",
       "    <tr>\n",
       "      <th>596</th>\n",
       "      <td>99</td>\n",
       "      <td>1.004193</td>\n",
       "      <td>596</td>\n",
       "    </tr>\n",
       "    <tr>\n",
       "      <th>597</th>\n",
       "      <td>99</td>\n",
       "      <td>1.004092</td>\n",
       "      <td>597</td>\n",
       "    </tr>\n",
       "    <tr>\n",
       "      <th>598</th>\n",
       "      <td>99</td>\n",
       "      <td>1.004211</td>\n",
       "      <td>598</td>\n",
       "    </tr>\n",
       "    <tr>\n",
       "      <th>599</th>\n",
       "      <td>99</td>\n",
       "      <td>1.004211</td>\n",
       "      <td>599</td>\n",
       "    </tr>\n",
       "  </tbody>\n",
       "</table>\n",
       "<p>67200 rows × 3 columns</p>\n",
       "</div>"
      ],
      "text/plain": [
       "     stock_id       wap  seconds\n",
       "0           0  1.001434        0\n",
       "1           0  1.001448        1\n",
       "2           0  1.001448        2\n",
       "3           0  1.001448        3\n",
       "4           0  1.001448        4\n",
       "..        ...       ...      ...\n",
       "595        99  1.004193      595\n",
       "596        99  1.004193      596\n",
       "597        99  1.004092      597\n",
       "598        99  1.004211      598\n",
       "599        99  1.004211      599\n",
       "\n",
       "[67200 rows x 3 columns]"
      ]
     },
     "execution_count": 3,
     "metadata": {},
     "output_type": "execute_result"
    }
   ],
   "source": [
    "s = concat_stocks(files, time_id = 5)\n",
    "\n",
    "s"
   ]
  },
  {
   "cell_type": "markdown",
   "id": "7f4ab80e",
   "metadata": {},
   "source": [
    "## Computing Beta"
   ]
  },
  {
   "cell_type": "code",
   "execution_count": 4,
   "id": "9e1d0d32",
   "metadata": {},
   "outputs": [],
   "source": [
    "def compute_beta(d):\n",
    "    \"\"\"\n",
    "    Computes Beta coeff as Covariance(Stock,Market)/Variance(Market)\n",
    "    Details found here: https://corporatefinanceinstitute.com/resources/data-science/beta-coefficient/\n",
    "    \"\"\"\n",
    "    c = (((d['wap'] - d['wap_mean']) * (d['market_mean_seconds'] - d['market_mean'])) / len(d)).sum()\n",
    "    #v = (((d['market_mean_seconds'] - d['market_mean']) ** 2) / len(d)).sum()\n",
    "    d['beta'] = c/np.var(d['market_mean_seconds'])\n",
    "    \n",
    "    return d"
   ]
  },
  {
   "cell_type": "code",
   "execution_count": 5,
   "id": "b5e6e832",
   "metadata": {},
   "outputs": [],
   "source": [
    "# Calculate average wap for stock\n",
    "s['wap_mean'] = s.groupby(['stock_id'])['wap'].transform('mean')\n",
    "\n",
    "# Calculate market mean for each second\n",
    "s['market_mean_seconds'] = s.groupby(['seconds'])['wap'].transform('mean')\n",
    "\n",
    "# Calculate overall market mean \n",
    "s['market_mean'] = s['wap'].mean()\n",
    "\n",
    "# compute beta for each stock_id\n",
    "s = s.groupby(['stock_id']).apply(compute_beta)"
   ]
  },
  {
   "cell_type": "code",
   "execution_count": 6,
   "id": "cdba8bc3",
   "metadata": {},
   "outputs": [
    {
     "data": {
      "text/html": [
       "<div>\n",
       "<style scoped>\n",
       "    .dataframe tbody tr th:only-of-type {\n",
       "        vertical-align: middle;\n",
       "    }\n",
       "\n",
       "    .dataframe tbody tr th {\n",
       "        vertical-align: top;\n",
       "    }\n",
       "\n",
       "    .dataframe thead th {\n",
       "        text-align: right;\n",
       "    }\n",
       "</style>\n",
       "<table border=\"1\" class=\"dataframe\">\n",
       "  <thead>\n",
       "    <tr style=\"text-align: right;\">\n",
       "      <th></th>\n",
       "      <th>stock_id</th>\n",
       "      <th>wap</th>\n",
       "      <th>seconds</th>\n",
       "      <th>wap_mean</th>\n",
       "      <th>market_mean_seconds</th>\n",
       "      <th>market_mean</th>\n",
       "      <th>beta</th>\n",
       "    </tr>\n",
       "  </thead>\n",
       "  <tbody>\n",
       "    <tr>\n",
       "      <th>0</th>\n",
       "      <td>0</td>\n",
       "      <td>1.001434</td>\n",
       "      <td>0</td>\n",
       "      <td>1.003690</td>\n",
       "      <td>1.001063</td>\n",
       "      <td>1.002292</td>\n",
       "      <td>1.208072</td>\n",
       "    </tr>\n",
       "    <tr>\n",
       "      <th>1</th>\n",
       "      <td>0</td>\n",
       "      <td>1.001448</td>\n",
       "      <td>1</td>\n",
       "      <td>1.003690</td>\n",
       "      <td>1.001089</td>\n",
       "      <td>1.002292</td>\n",
       "      <td>1.208072</td>\n",
       "    </tr>\n",
       "    <tr>\n",
       "      <th>2</th>\n",
       "      <td>0</td>\n",
       "      <td>1.001448</td>\n",
       "      <td>2</td>\n",
       "      <td>1.003690</td>\n",
       "      <td>1.001072</td>\n",
       "      <td>1.002292</td>\n",
       "      <td>1.208072</td>\n",
       "    </tr>\n",
       "    <tr>\n",
       "      <th>3</th>\n",
       "      <td>0</td>\n",
       "      <td>1.001448</td>\n",
       "      <td>3</td>\n",
       "      <td>1.003690</td>\n",
       "      <td>1.001058</td>\n",
       "      <td>1.002292</td>\n",
       "      <td>1.208072</td>\n",
       "    </tr>\n",
       "    <tr>\n",
       "      <th>4</th>\n",
       "      <td>0</td>\n",
       "      <td>1.001448</td>\n",
       "      <td>4</td>\n",
       "      <td>1.003690</td>\n",
       "      <td>1.001070</td>\n",
       "      <td>1.002292</td>\n",
       "      <td>1.208072</td>\n",
       "    </tr>\n",
       "    <tr>\n",
       "      <th>...</th>\n",
       "      <td>...</td>\n",
       "      <td>...</td>\n",
       "      <td>...</td>\n",
       "      <td>...</td>\n",
       "      <td>...</td>\n",
       "      <td>...</td>\n",
       "      <td>...</td>\n",
       "    </tr>\n",
       "    <tr>\n",
       "      <th>595</th>\n",
       "      <td>126</td>\n",
       "      <td>1.002070</td>\n",
       "      <td>595</td>\n",
       "      <td>1.002218</td>\n",
       "      <td>1.001909</td>\n",
       "      <td>1.002292</td>\n",
       "      <td>1.651032</td>\n",
       "    </tr>\n",
       "    <tr>\n",
       "      <th>596</th>\n",
       "      <td>126</td>\n",
       "      <td>1.002070</td>\n",
       "      <td>596</td>\n",
       "      <td>1.002218</td>\n",
       "      <td>1.001909</td>\n",
       "      <td>1.002292</td>\n",
       "      <td>1.651032</td>\n",
       "    </tr>\n",
       "    <tr>\n",
       "      <th>597</th>\n",
       "      <td>126</td>\n",
       "      <td>1.002070</td>\n",
       "      <td>597</td>\n",
       "      <td>1.002218</td>\n",
       "      <td>1.001883</td>\n",
       "      <td>1.002292</td>\n",
       "      <td>1.651032</td>\n",
       "    </tr>\n",
       "    <tr>\n",
       "      <th>598</th>\n",
       "      <td>126</td>\n",
       "      <td>1.002070</td>\n",
       "      <td>598</td>\n",
       "      <td>1.002218</td>\n",
       "      <td>1.001897</td>\n",
       "      <td>1.002292</td>\n",
       "      <td>1.651032</td>\n",
       "    </tr>\n",
       "    <tr>\n",
       "      <th>599</th>\n",
       "      <td>126</td>\n",
       "      <td>1.002070</td>\n",
       "      <td>599</td>\n",
       "      <td>1.002218</td>\n",
       "      <td>1.001884</td>\n",
       "      <td>1.002292</td>\n",
       "      <td>1.651032</td>\n",
       "    </tr>\n",
       "  </tbody>\n",
       "</table>\n",
       "<p>67200 rows × 7 columns</p>\n",
       "</div>"
      ],
      "text/plain": [
       "     stock_id       wap  seconds  wap_mean  market_mean_seconds  market_mean  \\\n",
       "0           0  1.001434        0  1.003690             1.001063     1.002292   \n",
       "1           0  1.001448        1  1.003690             1.001089     1.002292   \n",
       "2           0  1.001448        2  1.003690             1.001072     1.002292   \n",
       "3           0  1.001448        3  1.003690             1.001058     1.002292   \n",
       "4           0  1.001448        4  1.003690             1.001070     1.002292   \n",
       "..        ...       ...      ...       ...                  ...          ...   \n",
       "595       126  1.002070      595  1.002218             1.001909     1.002292   \n",
       "596       126  1.002070      596  1.002218             1.001909     1.002292   \n",
       "597       126  1.002070      597  1.002218             1.001883     1.002292   \n",
       "598       126  1.002070      598  1.002218             1.001897     1.002292   \n",
       "599       126  1.002070      599  1.002218             1.001884     1.002292   \n",
       "\n",
       "         beta  \n",
       "0    1.208072  \n",
       "1    1.208072  \n",
       "2    1.208072  \n",
       "3    1.208072  \n",
       "4    1.208072  \n",
       "..        ...  \n",
       "595  1.651032  \n",
       "596  1.651032  \n",
       "597  1.651032  \n",
       "598  1.651032  \n",
       "599  1.651032  \n",
       "\n",
       "[67200 rows x 7 columns]"
      ]
     },
     "execution_count": 6,
     "metadata": {},
     "output_type": "execute_result"
    }
   ],
   "source": [
    "s"
   ]
  },
  {
   "cell_type": "code",
   "execution_count": 7,
   "id": "fa5e427f",
   "metadata": {},
   "outputs": [
    {
     "data": {
      "text/html": [
       "<div>\n",
       "<style scoped>\n",
       "    .dataframe tbody tr th:only-of-type {\n",
       "        vertical-align: middle;\n",
       "    }\n",
       "\n",
       "    .dataframe tbody tr th {\n",
       "        vertical-align: top;\n",
       "    }\n",
       "\n",
       "    .dataframe thead th {\n",
       "        text-align: right;\n",
       "    }\n",
       "</style>\n",
       "<table border=\"1\" class=\"dataframe\">\n",
       "  <thead>\n",
       "    <tr style=\"text-align: right;\">\n",
       "      <th></th>\n",
       "      <th>stock_id</th>\n",
       "      <th>beta</th>\n",
       "    </tr>\n",
       "  </thead>\n",
       "  <tbody>\n",
       "    <tr>\n",
       "      <th>0</th>\n",
       "      <td>0</td>\n",
       "      <td>1.208072</td>\n",
       "    </tr>\n",
       "    <tr>\n",
       "      <th>1</th>\n",
       "      <td>1</td>\n",
       "      <td>2.201069</td>\n",
       "    </tr>\n",
       "    <tr>\n",
       "      <th>2</th>\n",
       "      <td>2</td>\n",
       "      <td>0.267023</td>\n",
       "    </tr>\n",
       "    <tr>\n",
       "      <th>3</th>\n",
       "      <td>3</td>\n",
       "      <td>-0.110631</td>\n",
       "    </tr>\n",
       "    <tr>\n",
       "      <th>4</th>\n",
       "      <td>4</td>\n",
       "      <td>0.793787</td>\n",
       "    </tr>\n",
       "    <tr>\n",
       "      <th>...</th>\n",
       "      <td>...</td>\n",
       "      <td>...</td>\n",
       "    </tr>\n",
       "    <tr>\n",
       "      <th>107</th>\n",
       "      <td>122</td>\n",
       "      <td>1.940053</td>\n",
       "    </tr>\n",
       "    <tr>\n",
       "      <th>108</th>\n",
       "      <td>123</td>\n",
       "      <td>0.617386</td>\n",
       "    </tr>\n",
       "    <tr>\n",
       "      <th>109</th>\n",
       "      <td>124</td>\n",
       "      <td>0.034549</td>\n",
       "    </tr>\n",
       "    <tr>\n",
       "      <th>110</th>\n",
       "      <td>125</td>\n",
       "      <td>1.301675</td>\n",
       "    </tr>\n",
       "    <tr>\n",
       "      <th>111</th>\n",
       "      <td>126</td>\n",
       "      <td>1.651032</td>\n",
       "    </tr>\n",
       "  </tbody>\n",
       "</table>\n",
       "<p>112 rows × 2 columns</p>\n",
       "</div>"
      ],
      "text/plain": [
       "     stock_id      beta\n",
       "0           0  1.208072\n",
       "1           1  2.201069\n",
       "2           2  0.267023\n",
       "3           3 -0.110631\n",
       "4           4  0.793787\n",
       "..        ...       ...\n",
       "107       122  1.940053\n",
       "108       123  0.617386\n",
       "109       124  0.034549\n",
       "110       125  1.301675\n",
       "111       126  1.651032\n",
       "\n",
       "[112 rows x 2 columns]"
      ]
     },
     "execution_count": 7,
     "metadata": {},
     "output_type": "execute_result"
    }
   ],
   "source": [
    "stock_betas = pd.DataFrame({'stock_id':s['stock_id'].unique(), 'beta':s['beta'].unique()})\n",
    "\n",
    "stock_betas"
   ]
  },
  {
   "cell_type": "markdown",
   "id": "8c0d5532",
   "metadata": {},
   "source": [
    "### MeanShift (num clusters decided by data)"
   ]
  },
  {
   "cell_type": "code",
   "execution_count": 8,
   "id": "da898423",
   "metadata": {},
   "outputs": [
    {
     "data": {
      "text/plain": [
       "array([[ 1.20807227e+00],\n",
       "       [ 2.20106938e+00],\n",
       "       [ 2.67023000e-01],\n",
       "       [-1.10630930e-01],\n",
       "       [ 7.93787360e-01],\n",
       "       [ 2.15473592e+00],\n",
       "       [ 2.56725563e+00],\n",
       "       [ 1.54282560e-01],\n",
       "       [ 3.86013262e+00],\n",
       "       [-2.64286206e+00],\n",
       "       [-1.50909942e+00],\n",
       "       [ 4.98281851e-01],\n",
       "       [ 8.27157171e-01],\n",
       "       [ 6.33363539e-02],\n",
       "       [ 2.17654586e+00],\n",
       "       [-7.39055849e-01],\n",
       "       [ 1.61357858e-01],\n",
       "       [ 1.24144946e-01],\n",
       "       [ 1.27839271e+00],\n",
       "       [ 1.12593968e+00],\n",
       "       [-3.17139276e-01],\n",
       "       [ 3.21911703e+00],\n",
       "       [ 5.22104824e-01],\n",
       "       [ 1.42452001e+00],\n",
       "       [ 4.45515836e+00],\n",
       "       [ 8.66364959e-01],\n",
       "       [ 1.41067671e+00],\n",
       "       [ 2.45593818e+00],\n",
       "       [-1.59591730e+00],\n",
       "       [-4.18400071e-03],\n",
       "       [ 1.41914099e+00],\n",
       "       [ 3.68873696e-01],\n",
       "       [ 3.13853200e-01],\n",
       "       [-9.40892930e-01],\n",
       "       [-4.50872442e-01],\n",
       "       [ 1.60450268e+00],\n",
       "       [ 6.93076745e-01],\n",
       "       [-6.09699329e-01],\n",
       "       [ 1.54333752e+00],\n",
       "       [ 2.66696728e-01],\n",
       "       [ 9.87877107e-01],\n",
       "       [ 1.82216620e+00],\n",
       "       [ 3.29445511e-01],\n",
       "       [ 1.06236079e+00],\n",
       "       [ 1.96542758e+00],\n",
       "       [ 1.34771161e+00],\n",
       "       [-1.95014892e-01],\n",
       "       [ 6.72043833e-01],\n",
       "       [-6.07291902e-02],\n",
       "       [ 1.43955023e+00],\n",
       "       [ 1.05197086e+00],\n",
       "       [ 1.88732060e-02],\n",
       "       [-5.34103002e-01],\n",
       "       [ 2.17862976e+00],\n",
       "       [ 2.51741008e+00],\n",
       "       [ 1.54188289e+00],\n",
       "       [ 2.34738028e+00],\n",
       "       [ 2.58745430e-01],\n",
       "       [ 2.16339953e+00],\n",
       "       [ 1.91747357e-01],\n",
       "       [ 3.60235840e-01],\n",
       "       [ 1.09616463e+00],\n",
       "       [ 9.60505415e-01],\n",
       "       [ 2.46674089e-01],\n",
       "       [ 1.37345171e+00],\n",
       "       [ 1.32977148e+00],\n",
       "       [ 1.81644018e+00],\n",
       "       [ 1.39631354e-01],\n",
       "       [ 1.47312950e+00],\n",
       "       [-1.96107701e+00],\n",
       "       [-1.90358494e+00],\n",
       "       [ 1.34118044e+00],\n",
       "       [-4.10584257e-01],\n",
       "       [ 2.56494329e+00],\n",
       "       [ 7.93795901e-01],\n",
       "       [ 6.22696097e-01],\n",
       "       [ 3.19417915e-01],\n",
       "       [ 2.73553828e+00],\n",
       "       [ 1.77311990e+00],\n",
       "       [ 1.76983420e+00],\n",
       "       [ 2.61548115e+00],\n",
       "       [ 2.05977600e+00],\n",
       "       [ 1.47121054e+00],\n",
       "       [ 2.28490508e+00],\n",
       "       [ 2.56546598e+00],\n",
       "       [ 5.38815682e-02],\n",
       "       [ 5.74094857e-01],\n",
       "       [ 1.51334915e+00],\n",
       "       [ 1.63961572e+00],\n",
       "       [ 2.73589069e+00],\n",
       "       [ 1.96564262e+00],\n",
       "       [ 7.01006437e-01],\n",
       "       [ 1.16609098e+00],\n",
       "       [-3.23583660e-01],\n",
       "       [ 8.38692807e-01],\n",
       "       [ 8.77849179e-01],\n",
       "       [ 1.03542821e+00],\n",
       "       [-1.16468712e-01],\n",
       "       [ 7.25452835e-01],\n",
       "       [ 5.29548715e-01],\n",
       "       [ 1.83141764e+00],\n",
       "       [ 1.50170330e+00],\n",
       "       [ 4.24743343e+00],\n",
       "       [ 3.78689101e+00],\n",
       "       [ 1.09607363e+00],\n",
       "       [-5.38126976e-02],\n",
       "       [ 4.79686413e-01],\n",
       "       [ 1.94005311e+00],\n",
       "       [ 6.17386082e-01],\n",
       "       [ 3.45486295e-02],\n",
       "       [ 1.30167523e+00],\n",
       "       [ 1.65103169e+00]])"
      ]
     },
     "execution_count": 8,
     "metadata": {},
     "output_type": "execute_result"
    }
   ],
   "source": [
    "from sklearn.cluster import MeanShift, estimate_bandwidth\n",
    "\n",
    "sb = stock_betas\n",
    "X = np.reshape(sb['beta'].values, (-1,1))\n",
    "X"
   ]
  },
  {
   "cell_type": "code",
   "execution_count": 9,
   "id": "ccf9b840",
   "metadata": {},
   "outputs": [
    {
     "name": "stdout",
     "output_type": "stream",
     "text": [
      "number of estimated clusters : 3\n",
      "[0 0 0 0 0 0 1 0 1 2 2 0 0 0 0 2 0 0 0 0 0 1 0 0 1 0 0 1 2 0 0 0 0 2 2 0 0\n",
      " 2 0 0 0 0 0 0 0 0 0 0 0 0 0 0 2 0 1 0 1 0 0 0 0 0 0 0 0 0 0 0 0 2 2 0 0 1\n",
      " 0 0 0 1 0 0 1 0 0 0 1 0 0 0 0 1 0 0 0 0 0 0 0 0 0 0 0 0 1 1 0 0 0 0 0 0 0\n",
      " 0]\n"
     ]
    }
   ],
   "source": [
    "ms = MeanShift(bandwidth=None, bin_seeding=True)\n",
    "ms.fit(X)\n",
    "labels = ms.labels_\n",
    "cluster_centers = ms.cluster_centers_\n",
    "\n",
    "labels_unique = np.unique(labels)\n",
    "n_clusters_ = len(labels_unique)\n",
    "\n",
    "print(\"number of estimated clusters : %d\" % n_clusters_)\n",
    "print(labels)"
   ]
  },
  {
   "cell_type": "markdown",
   "id": "388e2f72",
   "metadata": {},
   "source": [
    "### K-means (num clusters will need be decided) - atm using Elbow"
   ]
  },
  {
   "cell_type": "code",
   "execution_count": 10,
   "id": "1b70960e",
   "metadata": {},
   "outputs": [
    {
     "data": {
      "image/png": "[encoded data removed]",
      "text/plain": [
       "<Figure size 432x288 with 1 Axes>"
      ]
     },
     "metadata": {
      "needs_background": "light"
     },
     "output_type": "display_data"
    }
   ],
   "source": [
    "from sklearn.cluster import KMeans\n",
    "\n",
    "wcss = []\n",
    "\n",
    "sb = stock_betas\n",
    "X = np.reshape(sb['beta'].values, (-1,1))\n",
    "X\n",
    "\n",
    "for i in range(2, 17):\n",
    "    kmeans = KMeans(n_clusters = i, init = \"k-means++\", max_iter = 300, n_init = 10, random_state = 0)\n",
    "    kmeans.fit(X)\n",
    "    wcss.append(kmeans.inertia_)\n",
    "    \n",
    "plt.plot(range(2, 17), wcss)\n",
    "plt.title('The elbow method')\n",
    "plt.xlabel('Number of clusters')\n",
    "plt.ylabel('WCSS') #within cluster sum of squares\n",
    "plt.show()"
   ]
  },
  {
   "cell_type": "code",
   "execution_count": 11,
   "id": "b5700abb",
   "metadata": {},
   "outputs": [
    {
     "data": {
      "text/plain": [
       "array([4, 3, 0, 2, 0, 3, 3, 2, 1, 5, 5, 0, 0, 2, 3, 2, 2, 2, 4, 4, 2, 1,\n",
       "       0, 4, 1, 0, 4, 3, 5, 2, 4, 0, 0, 2, 2, 4, 0, 2, 4, 0, 0, 4, 0, 4,\n",
       "       3, 4, 2, 0, 2, 4, 4, 2, 2, 3, 3, 4, 3, 0, 3, 2, 0, 4, 0, 0, 4, 4,\n",
       "       4, 2, 4, 5, 5, 4, 2, 3, 0, 0, 0, 3, 4, 4, 3, 3, 4, 3, 3, 2, 0, 4,\n",
       "       4, 3, 3, 0, 4, 2, 0, 0, 4, 2, 0, 0, 4, 4, 1, 1, 4, 2, 0, 3, 0, 2,\n",
       "       4, 4])"
      ]
     },
     "execution_count": 11,
     "metadata": {},
     "output_type": "execute_result"
    }
   ],
   "source": [
    "km = KMeans(6)\n",
    "\n",
    "clusts = km.fit_predict(X)\n",
    "clusts"
   ]
  },
  {
   "cell_type": "markdown",
   "id": "f14e67e9",
   "metadata": {},
   "source": [
    "## Assigning Cluster IDs"
   ]
  },
  {
   "cell_type": "code",
   "execution_count": 12,
   "id": "2e5e7342",
   "metadata": {},
   "outputs": [
    {
     "data": {
      "text/html": [
       "<div>\n",
       "<style scoped>\n",
       "    .dataframe tbody tr th:only-of-type {\n",
       "        vertical-align: middle;\n",
       "    }\n",
       "\n",
       "    .dataframe tbody tr th {\n",
       "        vertical-align: top;\n",
       "    }\n",
       "\n",
       "    .dataframe thead th {\n",
       "        text-align: right;\n",
       "    }\n",
       "</style>\n",
       "<table border=\"1\" class=\"dataframe\">\n",
       "  <thead>\n",
       "    <tr style=\"text-align: right;\">\n",
       "      <th></th>\n",
       "      <th>stock_id</th>\n",
       "      <th>beta</th>\n",
       "      <th>cluster_id</th>\n",
       "    </tr>\n",
       "  </thead>\n",
       "  <tbody>\n",
       "    <tr>\n",
       "      <th>0</th>\n",
       "      <td>0</td>\n",
       "      <td>1.208072</td>\n",
       "      <td>4</td>\n",
       "    </tr>\n",
       "    <tr>\n",
       "      <th>1</th>\n",
       "      <td>1</td>\n",
       "      <td>2.201069</td>\n",
       "      <td>3</td>\n",
       "    </tr>\n",
       "    <tr>\n",
       "      <th>2</th>\n",
       "      <td>2</td>\n",
       "      <td>0.267023</td>\n",
       "      <td>0</td>\n",
       "    </tr>\n",
       "    <tr>\n",
       "      <th>3</th>\n",
       "      <td>3</td>\n",
       "      <td>-0.110631</td>\n",
       "      <td>2</td>\n",
       "    </tr>\n",
       "    <tr>\n",
       "      <th>4</th>\n",
       "      <td>4</td>\n",
       "      <td>0.793787</td>\n",
       "      <td>0</td>\n",
       "    </tr>\n",
       "    <tr>\n",
       "      <th>...</th>\n",
       "      <td>...</td>\n",
       "      <td>...</td>\n",
       "      <td>...</td>\n",
       "    </tr>\n",
       "    <tr>\n",
       "      <th>107</th>\n",
       "      <td>122</td>\n",
       "      <td>1.940053</td>\n",
       "      <td>3</td>\n",
       "    </tr>\n",
       "    <tr>\n",
       "      <th>108</th>\n",
       "      <td>123</td>\n",
       "      <td>0.617386</td>\n",
       "      <td>0</td>\n",
       "    </tr>\n",
       "    <tr>\n",
       "      <th>109</th>\n",
       "      <td>124</td>\n",
       "      <td>0.034549</td>\n",
       "      <td>2</td>\n",
       "    </tr>\n",
       "    <tr>\n",
       "      <th>110</th>\n",
       "      <td>125</td>\n",
       "      <td>1.301675</td>\n",
       "      <td>4</td>\n",
       "    </tr>\n",
       "    <tr>\n",
       "      <th>111</th>\n",
       "      <td>126</td>\n",
       "      <td>1.651032</td>\n",
       "      <td>4</td>\n",
       "    </tr>\n",
       "  </tbody>\n",
       "</table>\n",
       "<p>112 rows × 3 columns</p>\n",
       "</div>"
      ],
      "text/plain": [
       "     stock_id      beta  cluster_id\n",
       "0           0  1.208072           4\n",
       "1           1  2.201069           3\n",
       "2           2  0.267023           0\n",
       "3           3 -0.110631           2\n",
       "4           4  0.793787           0\n",
       "..        ...       ...         ...\n",
       "107       122  1.940053           3\n",
       "108       123  0.617386           0\n",
       "109       124  0.034549           2\n",
       "110       125  1.301675           4\n",
       "111       126  1.651032           4\n",
       "\n",
       "[112 rows x 3 columns]"
      ]
     },
     "execution_count": 12,
     "metadata": {},
     "output_type": "execute_result"
    }
   ],
   "source": [
    "stock_betas['cluster_id'] = clusts\n",
    "stock_betas"
   ]
  },
  {
   "cell_type": "markdown",
   "id": "f46141e4",
   "metadata": {},
   "source": [
    "### Analysing clusters"
   ]
  },
  {
   "cell_type": "code",
   "execution_count": 13,
   "id": "3a0d9872",
   "metadata": {},
   "outputs": [
    {
     "data": {
      "text/plain": [
       "<AxesSubplot:title={'center':'beta'}, xlabel='cluster_id'>"
      ]
     },
     "execution_count": 13,
     "metadata": {},
     "output_type": "execute_result"
    },
    {
     "data": {
      "image/png": "[encoded data removed]",
      "text/plain": [
       "<Figure size 432x288 with 1 Axes>"
      ]
     },
     "metadata": {
      "needs_background": "light"
     },
     "output_type": "display_data"
    }
   ],
   "source": [
    "stock_betas.boxplot(column = 'beta', by='cluster_id')"
   ]
  },
  {
   "cell_type": "code",
   "execution_count": 14,
   "id": "94899e6b",
   "metadata": {},
   "outputs": [
    {
     "data": {
      "text/plain": [
       "cluster_id\n",
       "0    0.595740\n",
       "1    3.860133\n",
       "2   -0.060729\n",
       "3    2.284905\n",
       "4    1.421830\n",
       "5   -1.903585\n",
       "Name: beta, dtype: float64"
      ]
     },
     "execution_count": 14,
     "metadata": {},
     "output_type": "execute_result"
    }
   ],
   "source": [
    "stock_betas.groupby(['cluster_id'])['beta'].median()"
   ]
  },
  {
   "cell_type": "code",
   "execution_count": 15,
   "id": "e44765d3",
   "metadata": {},
   "outputs": [
    {
     "data": {
      "text/plain": [
       "cluster_id\n",
       "0    0.246674\n",
       "1    3.219117\n",
       "2   -0.940893\n",
       "3    1.940053\n",
       "4    1.035428\n",
       "5   -2.642862\n",
       "Name: beta, dtype: float64"
      ]
     },
     "execution_count": 15,
     "metadata": {},
     "output_type": "execute_result"
    }
   ],
   "source": [
    "stock_betas.groupby(['cluster_id'])['beta'].min()"
   ]
  },
  {
   "cell_type": "code",
   "execution_count": 16,
   "id": "a3b7886e",
   "metadata": {},
   "outputs": [
    {
     "data": {
      "text/plain": [
       "cluster_id\n",
       "0    0.987877\n",
       "1    4.455158\n",
       "2    0.191747\n",
       "3    2.735891\n",
       "4    1.831418\n",
       "5   -1.509099\n",
       "Name: beta, dtype: float64"
      ]
     },
     "execution_count": 16,
     "metadata": {},
     "output_type": "execute_result"
    }
   ],
   "source": [
    "stock_betas.groupby(['cluster_id'])['beta'].max()"
   ]
  },
  {
   "cell_type": "markdown",
   "id": "46142111",
   "metadata": {},
   "source": [
    "Maybe can use beta ranges for to decide CAPM model based off cluster_id"
   ]
  },
  {
   "cell_type": "markdown",
   "id": "1806c42b",
   "metadata": {},
   "source": [
    "### Extra: Code found online for comparing cluster quality with selected K"
   ]
  },
  {
   "cell_type": "code",
   "execution_count": 17,
   "id": "0b12dff6",
   "metadata": {},
   "outputs": [
    {
     "data": {
      "image/png": "[encoded data removed]",
      "text/plain": [
       "<Figure size 1080x720 with 3 Axes>"
      ]
     },
     "metadata": {
      "needs_background": "light"
     },
     "output_type": "display_data"
    }
   ],
   "source": [
    "from sklearn.cluster import KMeans\n",
    "from sklearn import metrics\n",
    "\n",
    "X_segmentation = X\n",
    "\n",
    "search_range = range(2, 18)\n",
    "report = {}\n",
    "for k in search_range:\n",
    "    temp_dict = {}\n",
    "    kmeans = KMeans(k)\n",
    "    #inertia = kmeans.inertia_\n",
    "    #temp_dict['Sum of squared error'] = inertia\n",
    "    \n",
    "    cluster = kmeans.fit_predict(X_segmentation)\n",
    "    \n",
    "    inertia = kmeans.inertia_\n",
    "    temp_dict['Sum of squared error'] = inertia\n",
    "    chs = metrics.calinski_harabasz_score(X_segmentation, cluster)\n",
    "    ss = metrics.silhouette_score(X_segmentation, cluster)\n",
    "    temp_dict['Calinski Harabasz Score'] = chs\n",
    "    temp_dict['Silhouette Score'] = ss\n",
    "    report[k] = temp_dict\n",
    "    \n",
    "\n",
    "report_df = pd.DataFrame(report).T\n",
    "report_df.plot(figsize=(15, 10),\n",
    "               xticks=search_range,\n",
    "               grid=True,\n",
    "               title=f'Selecting optimal \"K\"',\n",
    "               subplots=True,\n",
    "               marker='o',\n",
    "               sharex=True)\n",
    "plt.tight_layout()"
   ]
  },
  {
   "cell_type": "code",
   "execution_count": 18,
   "id": "7bdd58e0",
   "metadata": {},
   "outputs": [
    {
     "data": {
      "image/png": "[encoded data removed]",
      "text/plain": [
       "<Figure size 576x396 with 1 Axes>"
      ]
     },
     "metadata": {},
     "output_type": "display_data"
    },
    {
     "data": {
      "text/plain": [
       "KElbowVisualizer(ax=<AxesSubplot:title={'center':'Distortion Score Elbow for KMeans Clustering'}, xlabel='k', ylabel='distortion score'>,\n",
       "                 estimator=KMeans(n_clusters=18, random_state=1), k=(2, 19),\n",
       "                 timings=False)"
      ]
     },
     "execution_count": 18,
     "metadata": {},
     "output_type": "execute_result"
    }
   ],
   "source": [
    "#!pip install yellowbrick\n",
    "from yellowbrick.cluster.elbow import kelbow_visualizer\n",
    "\n",
    "kelbow_visualizer(KMeans(random_state=1),\n",
    "                  X_segmentation,\n",
    "                  k=(2, 19),\n",
    "                  timings=False)"
   ]
  }
 ],
 "metadata": {
  "kernelspec": {
   "display_name": "Python 3 (ipykernel)",
   "language": "python",
   "name": "python3"
  },
  "language_info": {
   "codemirror_mode": {
    "name": "ipython",
    "version": 3
   },
   "file_extension": ".py",
   "mimetype": "text/x-python",
   "name": "python",
   "nbconvert_exporter": "python",
   "pygments_lexer": "ipython3",
   "version": "3.9.7"
  }
 },
 "nbformat": 4,
 "nbformat_minor": 5
}
